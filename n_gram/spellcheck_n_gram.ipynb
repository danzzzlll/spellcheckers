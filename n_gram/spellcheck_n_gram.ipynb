{
  "nbformat": 4,
  "nbformat_minor": 0,
  "metadata": {
    "colab": {
      "provenance": []
    },
    "kernelspec": {
      "name": "python3",
      "display_name": "Python 3"
    },
    "language_info": {
      "name": "python"
    }
  },
  "cells": [
    {
      "cell_type": "code",
      "source": [
        "from google.colab import drive\n",
        "drive.mount('/content/drive')"
      ],
      "metadata": {
        "colab": {
          "base_uri": "https://localhost:8080/"
        },
        "id": "bm_uztzVMqwr",
        "outputId": "64280620-d003-4688-9079-34b85440cdb0"
      },
      "execution_count": 1,
      "outputs": [
        {
          "output_type": "stream",
          "name": "stdout",
          "text": [
            "Mounted at /content/drive\n"
          ]
        }
      ]
    },
    {
      "cell_type": "code",
      "execution_count": 2,
      "metadata": {
        "id": "xYcjArI2rub-"
      },
      "outputs": [],
      "source": [
        "import pandas as pd"
      ]
    },
    {
      "cell_type": "code",
      "source": [
        "train = pd.read_csv('/content/drive/MyDrive/spell-checker/Копия train.csv', usecols=['corrupted_text', 'correct_text'])"
      ],
      "metadata": {
        "id": "wkt7q0Hqr0TA"
      },
      "execution_count": 32,
      "outputs": []
    },
    {
      "cell_type": "markdown",
      "source": [
        "Удаляем пунктуацию, переводим текст в нижний регистр и составляем список слов из данной строки"
      ],
      "metadata": {
        "id": "KcMZz9-Jw0Bb"
      }
    },
    {
      "cell_type": "code",
      "source": [
        "train.sample(5)"
      ],
      "metadata": {
        "colab": {
          "base_uri": "https://localhost:8080/",
          "height": 206
        },
        "id": "8W8LHG4YM-N3",
        "outputId": "0650a692-355f-4bef-8583-de45fb0b019c"
      },
      "execution_count": 36,
      "outputs": [
        {
          "output_type": "execute_result",
          "data": {
            "text/plain": [
              "                                       corrupted_text  \\\n",
              "612568   Слушай, я пыатюст найти ее, помовории с ней.   \n",
              "139020                Лотии, ты дкржи пацана окренче.   \n",
              "635107                       сфтоед Борщ черниговский   \n",
              "1133162         Я понимаю это. Этр всего-лишь ноктбк.   \n",
              "1359494           Нет. Почему вы беоете нш телевизор?   \n",
              "\n",
              "                                          correct_text  \n",
              "612568   Слушай, я пытаюсь найти ее, поговорить с ней.  \n",
              "139020                Лотии, ты держи пацана покрепче.  \n",
              "635107                      Сытоедов Борщ черниговский  \n",
              "1133162         Я понимаю это. Это всего-лишь ноутбук.  \n",
              "1359494           Нет. Почему вы берете наш телевизор?  "
            ],
            "text/html": [
              "\n",
              "  <div id=\"df-1d310606-abd2-46e6-946c-fb0b46299414\" class=\"colab-df-container\">\n",
              "    <div>\n",
              "<style scoped>\n",
              "    .dataframe tbody tr th:only-of-type {\n",
              "        vertical-align: middle;\n",
              "    }\n",
              "\n",
              "    .dataframe tbody tr th {\n",
              "        vertical-align: top;\n",
              "    }\n",
              "\n",
              "    .dataframe thead th {\n",
              "        text-align: right;\n",
              "    }\n",
              "</style>\n",
              "<table border=\"1\" class=\"dataframe\">\n",
              "  <thead>\n",
              "    <tr style=\"text-align: right;\">\n",
              "      <th></th>\n",
              "      <th>corrupted_text</th>\n",
              "      <th>correct_text</th>\n",
              "    </tr>\n",
              "  </thead>\n",
              "  <tbody>\n",
              "    <tr>\n",
              "      <th>612568</th>\n",
              "      <td>Слушай, я пыатюст найти ее, помовории с ней.</td>\n",
              "      <td>Слушай, я пытаюсь найти ее, поговорить с ней.</td>\n",
              "    </tr>\n",
              "    <tr>\n",
              "      <th>139020</th>\n",
              "      <td>Лотии, ты дкржи пацана окренче.</td>\n",
              "      <td>Лотии, ты держи пацана покрепче.</td>\n",
              "    </tr>\n",
              "    <tr>\n",
              "      <th>635107</th>\n",
              "      <td>сфтоед Борщ черниговский</td>\n",
              "      <td>Сытоедов Борщ черниговский</td>\n",
              "    </tr>\n",
              "    <tr>\n",
              "      <th>1133162</th>\n",
              "      <td>Я понимаю это. Этр всего-лишь ноктбк.</td>\n",
              "      <td>Я понимаю это. Это всего-лишь ноутбук.</td>\n",
              "    </tr>\n",
              "    <tr>\n",
              "      <th>1359494</th>\n",
              "      <td>Нет. Почему вы беоете нш телевизор?</td>\n",
              "      <td>Нет. Почему вы берете наш телевизор?</td>\n",
              "    </tr>\n",
              "  </tbody>\n",
              "</table>\n",
              "</div>\n",
              "    <div class=\"colab-df-buttons\">\n",
              "\n",
              "  <div class=\"colab-df-container\">\n",
              "    <button class=\"colab-df-convert\" onclick=\"convertToInteractive('df-1d310606-abd2-46e6-946c-fb0b46299414')\"\n",
              "            title=\"Convert this dataframe to an interactive table.\"\n",
              "            style=\"display:none;\">\n",
              "\n",
              "  <svg xmlns=\"http://www.w3.org/2000/svg\" height=\"24px\" viewBox=\"0 -960 960 960\">\n",
              "    <path d=\"M120-120v-720h720v720H120Zm60-500h600v-160H180v160Zm220 220h160v-160H400v160Zm0 220h160v-160H400v160ZM180-400h160v-160H180v160Zm440 0h160v-160H620v160ZM180-180h160v-160H180v160Zm440 0h160v-160H620v160Z\"/>\n",
              "  </svg>\n",
              "    </button>\n",
              "\n",
              "  <style>\n",
              "    .colab-df-container {\n",
              "      display:flex;\n",
              "      gap: 12px;\n",
              "    }\n",
              "\n",
              "    .colab-df-convert {\n",
              "      background-color: #E8F0FE;\n",
              "      border: none;\n",
              "      border-radius: 50%;\n",
              "      cursor: pointer;\n",
              "      display: none;\n",
              "      fill: #1967D2;\n",
              "      height: 32px;\n",
              "      padding: 0 0 0 0;\n",
              "      width: 32px;\n",
              "    }\n",
              "\n",
              "    .colab-df-convert:hover {\n",
              "      background-color: #E2EBFA;\n",
              "      box-shadow: 0px 1px 2px rgba(60, 64, 67, 0.3), 0px 1px 3px 1px rgba(60, 64, 67, 0.15);\n",
              "      fill: #174EA6;\n",
              "    }\n",
              "\n",
              "    .colab-df-buttons div {\n",
              "      margin-bottom: 4px;\n",
              "    }\n",
              "\n",
              "    [theme=dark] .colab-df-convert {\n",
              "      background-color: #3B4455;\n",
              "      fill: #D2E3FC;\n",
              "    }\n",
              "\n",
              "    [theme=dark] .colab-df-convert:hover {\n",
              "      background-color: #434B5C;\n",
              "      box-shadow: 0px 1px 3px 1px rgba(0, 0, 0, 0.15);\n",
              "      filter: drop-shadow(0px 1px 2px rgba(0, 0, 0, 0.3));\n",
              "      fill: #FFFFFF;\n",
              "    }\n",
              "  </style>\n",
              "\n",
              "    <script>\n",
              "      const buttonEl =\n",
              "        document.querySelector('#df-1d310606-abd2-46e6-946c-fb0b46299414 button.colab-df-convert');\n",
              "      buttonEl.style.display =\n",
              "        google.colab.kernel.accessAllowed ? 'block' : 'none';\n",
              "\n",
              "      async function convertToInteractive(key) {\n",
              "        const element = document.querySelector('#df-1d310606-abd2-46e6-946c-fb0b46299414');\n",
              "        const dataTable =\n",
              "          await google.colab.kernel.invokeFunction('convertToInteractive',\n",
              "                                                    [key], {});\n",
              "        if (!dataTable) return;\n",
              "\n",
              "        const docLinkHtml = 'Like what you see? Visit the ' +\n",
              "          '<a target=\"_blank\" href=https://colab.research.google.com/notebooks/data_table.ipynb>data table notebook</a>'\n",
              "          + ' to learn more about interactive tables.';\n",
              "        element.innerHTML = '';\n",
              "        dataTable['output_type'] = 'display_data';\n",
              "        await google.colab.output.renderOutput(dataTable, element);\n",
              "        const docLink = document.createElement('div');\n",
              "        docLink.innerHTML = docLinkHtml;\n",
              "        element.appendChild(docLink);\n",
              "      }\n",
              "    </script>\n",
              "  </div>\n",
              "\n",
              "\n",
              "<div id=\"df-feaf736e-b302-4ad1-b5a6-b12934a25ca4\">\n",
              "  <button class=\"colab-df-quickchart\" onclick=\"quickchart('df-feaf736e-b302-4ad1-b5a6-b12934a25ca4')\"\n",
              "            title=\"Suggest charts\"\n",
              "            style=\"display:none;\">\n",
              "\n",
              "<svg xmlns=\"http://www.w3.org/2000/svg\" height=\"24px\"viewBox=\"0 0 24 24\"\n",
              "     width=\"24px\">\n",
              "    <g>\n",
              "        <path d=\"M19 3H5c-1.1 0-2 .9-2 2v14c0 1.1.9 2 2 2h14c1.1 0 2-.9 2-2V5c0-1.1-.9-2-2-2zM9 17H7v-7h2v7zm4 0h-2V7h2v10zm4 0h-2v-4h2v4z\"/>\n",
              "    </g>\n",
              "</svg>\n",
              "  </button>\n",
              "\n",
              "<style>\n",
              "  .colab-df-quickchart {\n",
              "      --bg-color: #E8F0FE;\n",
              "      --fill-color: #1967D2;\n",
              "      --hover-bg-color: #E2EBFA;\n",
              "      --hover-fill-color: #174EA6;\n",
              "      --disabled-fill-color: #AAA;\n",
              "      --disabled-bg-color: #DDD;\n",
              "  }\n",
              "\n",
              "  [theme=dark] .colab-df-quickchart {\n",
              "      --bg-color: #3B4455;\n",
              "      --fill-color: #D2E3FC;\n",
              "      --hover-bg-color: #434B5C;\n",
              "      --hover-fill-color: #FFFFFF;\n",
              "      --disabled-bg-color: #3B4455;\n",
              "      --disabled-fill-color: #666;\n",
              "  }\n",
              "\n",
              "  .colab-df-quickchart {\n",
              "    background-color: var(--bg-color);\n",
              "    border: none;\n",
              "    border-radius: 50%;\n",
              "    cursor: pointer;\n",
              "    display: none;\n",
              "    fill: var(--fill-color);\n",
              "    height: 32px;\n",
              "    padding: 0;\n",
              "    width: 32px;\n",
              "  }\n",
              "\n",
              "  .colab-df-quickchart:hover {\n",
              "    background-color: var(--hover-bg-color);\n",
              "    box-shadow: 0 1px 2px rgba(60, 64, 67, 0.3), 0 1px 3px 1px rgba(60, 64, 67, 0.15);\n",
              "    fill: var(--button-hover-fill-color);\n",
              "  }\n",
              "\n",
              "  .colab-df-quickchart-complete:disabled,\n",
              "  .colab-df-quickchart-complete:disabled:hover {\n",
              "    background-color: var(--disabled-bg-color);\n",
              "    fill: var(--disabled-fill-color);\n",
              "    box-shadow: none;\n",
              "  }\n",
              "\n",
              "  .colab-df-spinner {\n",
              "    border: 2px solid var(--fill-color);\n",
              "    border-color: transparent;\n",
              "    border-bottom-color: var(--fill-color);\n",
              "    animation:\n",
              "      spin 1s steps(1) infinite;\n",
              "  }\n",
              "\n",
              "  @keyframes spin {\n",
              "    0% {\n",
              "      border-color: transparent;\n",
              "      border-bottom-color: var(--fill-color);\n",
              "      border-left-color: var(--fill-color);\n",
              "    }\n",
              "    20% {\n",
              "      border-color: transparent;\n",
              "      border-left-color: var(--fill-color);\n",
              "      border-top-color: var(--fill-color);\n",
              "    }\n",
              "    30% {\n",
              "      border-color: transparent;\n",
              "      border-left-color: var(--fill-color);\n",
              "      border-top-color: var(--fill-color);\n",
              "      border-right-color: var(--fill-color);\n",
              "    }\n",
              "    40% {\n",
              "      border-color: transparent;\n",
              "      border-right-color: var(--fill-color);\n",
              "      border-top-color: var(--fill-color);\n",
              "    }\n",
              "    60% {\n",
              "      border-color: transparent;\n",
              "      border-right-color: var(--fill-color);\n",
              "    }\n",
              "    80% {\n",
              "      border-color: transparent;\n",
              "      border-right-color: var(--fill-color);\n",
              "      border-bottom-color: var(--fill-color);\n",
              "    }\n",
              "    90% {\n",
              "      border-color: transparent;\n",
              "      border-bottom-color: var(--fill-color);\n",
              "    }\n",
              "  }\n",
              "</style>\n",
              "\n",
              "  <script>\n",
              "    async function quickchart(key) {\n",
              "      const quickchartButtonEl =\n",
              "        document.querySelector('#' + key + ' button');\n",
              "      quickchartButtonEl.disabled = true;  // To prevent multiple clicks.\n",
              "      quickchartButtonEl.classList.add('colab-df-spinner');\n",
              "      try {\n",
              "        const charts = await google.colab.kernel.invokeFunction(\n",
              "            'suggestCharts', [key], {});\n",
              "      } catch (error) {\n",
              "        console.error('Error during call to suggestCharts:', error);\n",
              "      }\n",
              "      quickchartButtonEl.classList.remove('colab-df-spinner');\n",
              "      quickchartButtonEl.classList.add('colab-df-quickchart-complete');\n",
              "    }\n",
              "    (() => {\n",
              "      let quickchartButtonEl =\n",
              "        document.querySelector('#df-feaf736e-b302-4ad1-b5a6-b12934a25ca4 button');\n",
              "      quickchartButtonEl.style.display =\n",
              "        google.colab.kernel.accessAllowed ? 'block' : 'none';\n",
              "    })();\n",
              "  </script>\n",
              "</div>\n",
              "    </div>\n",
              "  </div>\n"
            ]
          },
          "metadata": {},
          "execution_count": 36
        }
      ]
    },
    {
      "cell_type": "code",
      "source": [
        "def remove_punctuation(text):\n",
        "    punctuation = '''!@#$%^&*(){}[]|._`/?:;\"'\\,~'''\n",
        "    for symbol in punctuation:\n",
        "        if symbol in text:\n",
        "            text = text.replace(symbol, '')\n",
        "    return text.strip()"
      ],
      "metadata": {
        "id": "qPWAy9wGr02O"
      },
      "execution_count": 5,
      "outputs": []
    },
    {
      "cell_type": "code",
      "source": [
        "train['corrupt_text_no_punctuation'] = train.corrupted_text.apply(lambda x: remove_punctuation(x)).apply(lambda x: x.lower())\n",
        "train['corrupt_text_list'] = train['corrupt_text_no_punctuation'].apply(lambda x: x.split())"
      ],
      "metadata": {
        "id": "wTrvx0_jt41e"
      },
      "execution_count": 6,
      "outputs": []
    },
    {
      "cell_type": "code",
      "source": [
        "train['correct_text_no_punctuation'] = train.correct_text.apply(lambda x: remove_punctuation(x)).apply(lambda x: x.lower())\n",
        "train['correct_text_list'] = train['correct_text_no_punctuation'].apply(lambda x: x.split())"
      ],
      "metadata": {
        "id": "jcWyH2ABNZ1N"
      },
      "execution_count": 7,
      "outputs": []
    },
    {
      "cell_type": "markdown",
      "source": [
        "Создаем словари для слов в которых были совершены ошибки, для корректных слов и для биграм (словосочетаний по 2 слова)"
      ],
      "metadata": {
        "id": "g2mAQ_TgxJDF"
      }
    },
    {
      "cell_type": "code",
      "source": [
        "bad_words = {} #слова с ошибками\n",
        "good_words = {} #валидные слова\n",
        "bigrams = {} #биграммы"
      ],
      "metadata": {
        "id": "XDBV1q6Lt7M5"
      },
      "execution_count": 8,
      "outputs": []
    },
    {
      "cell_type": "code",
      "source": [
        "# функция для составления словаря биграмм\n",
        "def make_bigrams(text):\n",
        "    for i in range(len(text) - 1):\n",
        "        bigram = text[i] + ' ' + text[i + 1]\n",
        "        if bigram in bigrams:\n",
        "            bigrams[bigram] += 1\n",
        "        else:\n",
        "            bigrams[bigram] = 1\n",
        "\n",
        "'''функция для составления словаря валидных слов, где ключ - слово,\n",
        "значение - сколько раз оно встретилось'''\n",
        "def make_good_dict(text):\n",
        "    for word in text:\n",
        "        if word in good_words:\n",
        "            good_words[word] += 1\n",
        "        else:\n",
        "            good_words[word] = 1\n",
        "\n",
        "'''функция для составления словаря слов с ошибками (сопоставляет слову\n",
        "из текста с ошибками слово на той же позиции из корректного текста)'''\n",
        "def make_bad_dict(correct, corrupt):\n",
        "    for good_word, bad_word in zip(correct, corrupt):\n",
        "        if good_word != bad_word and good_word in good_words:\n",
        "            if bad_word in bad_words:\n",
        "                bad_words[bad_word].add(good_word)\n",
        "            else:\n",
        "                bad_words[bad_word] = {good_word}"
      ],
      "metadata": {
        "id": "1sfVGBT2t-xY"
      },
      "execution_count": 9,
      "outputs": []
    },
    {
      "cell_type": "code",
      "source": [
        "train.correct_text_list.apply(lambda x: make_good_dict(x))\n",
        "train.apply(lambda x: make_bad_dict(x.correct_text_list, x.corrupt_text_list), axis=1)\n",
        "train.correct_text_list.apply(lambda x: make_bigrams(x))"
      ],
      "metadata": {
        "colab": {
          "base_uri": "https://localhost:8080/"
        },
        "id": "c-hc58BRt_4d",
        "outputId": "8cdfd387-5b1a-4291-888f-1d15de23d82b"
      },
      "execution_count": 10,
      "outputs": [
        {
          "output_type": "execute_result",
          "data": {
            "text/plain": [
              "0          None\n",
              "1          None\n",
              "2          None\n",
              "3          None\n",
              "4          None\n",
              "           ... \n",
              "1480415    None\n",
              "1480416    None\n",
              "1480417    None\n",
              "1480418    None\n",
              "1480419    None\n",
              "Name: correct_text_list, Length: 1480420, dtype: object"
            ]
          },
          "metadata": {},
          "execution_count": 10
        }
      ]
    },
    {
      "cell_type": "markdown",
      "source": [
        "Используем вероятностный подход для оценки контекста и вероятности употребления данного слова"
      ],
      "metadata": {
        "id": "b09VGcdayS1i"
      }
    },
    {
      "cell_type": "code",
      "source": [
        "'''Сглаженная функция (не переходит в ноль)\n",
        "   для определения вероятности появления слов'''\n",
        "def pdist_additive_smoothed(counter, c=1):  #counter - словарь токенов и их частот\n",
        "    N = sum(list(counter.values()))          # суммарное кол-во слов\n",
        "    Nplus = N + c * (len(counter) + 1) # кол-во слов + сглаживание\n",
        "    return lambda word: (counter[word] + c) / Nplus\n",
        "\n",
        "P1 = pdist_additive_smoothed(good_words)\n",
        "P2 = pdist_additive_smoothed(bigrams)\n",
        "\n",
        "# функция для перемножения вероятностей\n",
        "def product(nums):\n",
        "    result = 1\n",
        "    for x in nums:\n",
        "        result *= x\n",
        "    return result"
      ],
      "metadata": {
        "id": "-R_I59fkuLi9"
      },
      "execution_count": 11,
      "outputs": []
    },
    {
      "cell_type": "code",
      "source": [
        "# вероятность последовательности слов с помощью биграммной модели (при условии предыдущего слова)\n",
        "def Pwords2(words, prev=''):\n",
        "    return product(cPword(w, (prev if (i == 0) else words[i-1]) )\n",
        "                   for (i, w) in enumerate(words))\n",
        "\n",
        "# условная вероятность слова при условии предыдущего\n",
        "def cPword(word, prev):\n",
        "    \"Условная вероятность слова при условии предыдущего.\"\n",
        "    bigram = prev + ' ' + word\n",
        "    if bigram in bigrams and prev in good_words:\n",
        "        return P2(bigram) / P1(prev)\n",
        "    else: # если что-то не встретилось, поставим среднее между P1 и 0\n",
        "        return P1(word) / 2"
      ],
      "metadata": {
        "id": "xgxdOmy0uOp4"
      },
      "execution_count": 12,
      "outputs": []
    },
    {
      "cell_type": "markdown",
      "source": [
        "Определяем возможные валидные слова на edit distance 0, 1 и 2 от нашего слова"
      ],
      "metadata": {
        "id": "xeEZK1F82Xgk"
      }
    },
    {
      "cell_type": "code",
      "source": [
        "''' функция возвращает подмножество слов, которое есть в нашем словаре с частотой более 10 '''\n",
        "def known(words):\n",
        "    res = set()\n",
        "    for w in words:\n",
        "        if w in good_words.keys() and good_words[w] > 10:\n",
        "            res.add(w)\n",
        "    return res\n",
        "\n",
        "# все строки, которые находятся на edit_distance == 0 от word (т.е само слово)\n",
        "def edits0(word):\n",
        "    return {word}\n",
        "\n",
        "# все строки, которые находятся на edit_distance == 2 от word\n",
        "def edits2(word):\n",
        "    return {e2 for e1 in edits1(word) for e2 in edits1(e1)}"
      ],
      "metadata": {
        "id": "2mk7DkxquRK6"
      },
      "execution_count": 13,
      "outputs": []
    },
    {
      "cell_type": "code",
      "source": [
        "# возвращает список всех строк на расстоянии edit_distance == 1 от word\n",
        "def edits1(word):\n",
        "    pairs      = splits(word)\n",
        "    deletes    = [a+b[1:]           for (a, b) in pairs if b]\n",
        "    transposes = [a+b[1]+b[0]+b[2:] for (a, b) in pairs if len(b) > 1]\n",
        "    replaces   = [a+c+b[1:]         for (a, b) in pairs for c in alphabet if b]\n",
        "    inserts    = [a+c+b             for (a, b) in pairs for c in alphabet]\n",
        "    return set(deletes + transposes + replaces + inserts)\n",
        "\n",
        "# список всех возможных разбиений слова на пару (a, b)\n",
        "def splits(word):\n",
        "    return [(word[:i], word[i:])\n",
        "            for i in range(len(word)+1)]\n",
        "\n",
        "# включили - в алфавит, т.к есть слова по типу \"какой-то\", \"посмтри-ка\"\n",
        "alphabet = 'абвгдеёжзийклмнопрстуфхцчшщъыьэюя-'"
      ],
      "metadata": {
        "id": "U8MpKXXAuSfv"
      },
      "execution_count": 14,
      "outputs": []
    },
    {
      "cell_type": "markdown",
      "source": [
        "Осуществляем исправления слов.\n",
        "Сначала прямолинейным подходом - ищем в словаре неправильных слов замену (если несколько вариантов исправления, выбираем самый подходящий по биграммам или вероятности появления данного слова).\n",
        "Далее пользуемся подходом Норвига (вышенаписанные функции) с изменением неправильного слова на расстояния 1 и 2 (если получилось несколько кандидатов также смотрим по биграммам и вероятностям слов)"
      ],
      "metadata": {
        "id": "3wziPxu63CKF"
      }
    },
    {
      "cell_type": "code",
      "source": [
        "# поиск наиболее вероятной биграммы\n",
        "def find_best_b(bi):\n",
        "    best_P = 0\n",
        "    for b in bi:\n",
        "        if Pwords2(b) >= best_P:\n",
        "            best_P = Pwords2(b)\n",
        "            best_bi = b\n",
        "    return best_bi"
      ],
      "metadata": {
        "id": "Mr0JME8ouWeP"
      },
      "execution_count": 15,
      "outputs": []
    },
    {
      "cell_type": "code",
      "source": [
        "# реализация прямолинейного подхода\n",
        "def checker(text_check):\n",
        "    text = text_check.copy()\n",
        "    for i in range(len(text)):\n",
        "        ''' ищем слова которые были исправлены в train и не содержатся в словаре валидных слов\n",
        "        (чтобы случайно не исправить правильные слова)'''\n",
        "        if text[i] in bad_words and (text[i] not in good_words or good_words[text[i]] < 100):\n",
        "            candidates = bad_words[text[i]]\n",
        "            # если предыдущее слово - валидное, составляем с ним биграммы\n",
        "            if i != 0 and text[i - 1] in good_words:\n",
        "                bi = []\n",
        "                for candidate in candidates:\n",
        "                    bi.append([text[i - 1], candidate])\n",
        "\n",
        "                best_bi = find_best_b(bi)\n",
        "                text[i] = best_bi[1]\n",
        "            # если предыдущее слово - не валидное, смотрим по вероятности текущего слова\n",
        "            else:\n",
        "                text[i] = (max(bad_words[text[i]], key=P1))\n",
        "\n",
        "    return text"
      ],
      "metadata": {
        "id": "lEZrSSlPuYjS"
      },
      "execution_count": 16,
      "outputs": []
    },
    {
      "cell_type": "code",
      "source": [
        "# реализация подхода с исправлением опечаток на расстоянии 1 и 2\n",
        "def checker2(text_check):\n",
        "    text = text_check.copy()\n",
        "    for i in range(len(text)):\n",
        "        # используем только для некорректных слов\n",
        "        if text[i] not in good_words:\n",
        "            # выбираем кандидатов с помощью написанных выше функций\n",
        "            candidates = (known(edits1(text[i])) or known(edits2(text[i])))\n",
        "            if not candidates:\n",
        "                continue\n",
        "            if i != 0 and text[i - 1] in good_words and len(text[i]) > 3:\n",
        "                bi = []\n",
        "                for candidate in candidates:\n",
        "                    bi.append([text[i - 1], candidate])\n",
        "                best_bi = find_best_b(bi)\n",
        "                text[i] = best_bi[1]\n",
        "            else:\n",
        "                text[i] = max(candidates, key=good_words.get)\n",
        "\n",
        "    return text"
      ],
      "metadata": {
        "id": "alGl9QTNuZnc"
      },
      "execution_count": 17,
      "outputs": []
    },
    {
      "cell_type": "code",
      "source": [
        "# восстановление пунктуации\n",
        "def restore_punctuation(original_text, good_text):\n",
        "    res = []\n",
        "    punctuation = '''!@#$%^&*(){}[]|._`/?:;\"'\\,~'''\n",
        "    for orig_word, word in zip(original_text.split(), good_text):\n",
        "        if orig_word[-1] in punctuation:\n",
        "            word = word + orig_word[-1]\n",
        "        if orig_word[0] in punctuation:\n",
        "            word = orig_word[0] + word\n",
        "\n",
        "        if (orig_word == '-' or orig_word == '—') and word == 'я':\n",
        "            word = orig_word\n",
        "\n",
        "        if orig_word.istitle():\n",
        "            word = word.capitalize()\n",
        "\n",
        "        res.append(word)\n",
        "\n",
        "    restored_text = ' '.join(res)\n",
        "    for punct in punctuation:\n",
        "        restored_text = restored_text.replace(' ' + punct, punct)\n",
        "\n",
        "    return restored_text"
      ],
      "metadata": {
        "id": "RSwuhLkYQSEZ"
      },
      "execution_count": 18,
      "outputs": []
    },
    {
      "cell_type": "code",
      "source": [
        "texts = [\n",
        "    'Это с тобой жлучилaсь, Алекс?',\n",
        "    'Я не - Лучше рпсядьте.',\n",
        "    'плетег шнур Aqualon',\n",
        "    'Рожок гиант колибри',\n",
        "    'У меня там когда-то зсрряла штанега.',\n",
        "    'Слушай, я пыатюст найти ее, помовории с ней.'\n",
        "]"
      ],
      "metadata": {
        "id": "5pPov-P3QPcY"
      },
      "execution_count": 37,
      "outputs": []
    },
    {
      "cell_type": "code",
      "source": [
        "from IPython.display import display, HTML\n",
        "\n",
        "# для подкрашивания измененных слов в получившемся тексте\n",
        "def highlight_corrections(original_text, corrected_text):\n",
        "    original_words = original_text.split()\n",
        "    corrected_words = corrected_text.split()\n",
        "\n",
        "    def create_highlighted_html(words, corrections):\n",
        "        highlighted_html = \"\"\n",
        "        for word, is_corrected in zip(words, corrections):\n",
        "            if is_corrected:\n",
        "                highlighted_html += f\"<mark>{word}</mark> \"\n",
        "            else:\n",
        "                highlighted_html += word + \" \"\n",
        "        return highlighted_html\n",
        "\n",
        "    corrections = [ow != cw for ow, cw in zip(original_words, corrected_words)]\n",
        "    highlighted_original = create_highlighted_html(original_words, corrections)\n",
        "    highlighted_corrected = create_highlighted_html(corrected_words, corrections)\n",
        "\n",
        "    return f\"Оригинальный текст: {highlighted_original}<br><br>Исправленный текст: {highlighted_corrected}\""
      ],
      "metadata": {
        "id": "NYLNaJdwsA_w"
      },
      "execution_count": 38,
      "outputs": []
    },
    {
      "cell_type": "code",
      "source": [
        "def inference(text):\n",
        "    text_fix = remove_punctuation(text)\n",
        "    text_fix = text_fix.split()\n",
        "    text_fix = checker(text_fix)\n",
        "    correct_text = checker2(text_fix)\n",
        "    correct_text_punkt = restore_punctuation(text, correct_text)\n",
        "    higlight_text = highlight_corrections(text, correct_text_punkt)\n",
        "    display(HTML(higlight_text))"
      ],
      "metadata": {
        "id": "xHIfFbjCPwz0"
      },
      "execution_count": 39,
      "outputs": []
    },
    {
      "cell_type": "code",
      "source": [
        "for text in texts:\n",
        "    inference(text)\n",
        "    print('-' * 100)"
      ],
      "metadata": {
        "colab": {
          "base_uri": "https://localhost:8080/",
          "height": 434
        },
        "id": "aicwobl0qex5",
        "outputId": "b6326a84-eddc-4a69-9bb4-fa53e2c6929d"
      },
      "execution_count": 40,
      "outputs": [
        {
          "output_type": "display_data",
          "data": {
            "text/plain": [
              "<IPython.core.display.HTML object>"
            ],
            "text/html": [
              "Оригинальный текст: Это с тобой <mark>жлучилaсь,</mark> Алекс? <br><br>Исправленный текст: Это с тобой <mark>случилось,</mark> Алекс? "
            ]
          },
          "metadata": {}
        },
        {
          "output_type": "stream",
          "name": "stdout",
          "text": [
            "----------------------------------------------------------------------------------------------------\n"
          ]
        },
        {
          "output_type": "display_data",
          "data": {
            "text/plain": [
              "<IPython.core.display.HTML object>"
            ],
            "text/html": [
              "Оригинальный текст: Я не - Лучше <mark>рпсядьте.</mark> <br><br>Исправленный текст: Я не - Лучше <mark>присядьте.</mark> "
            ]
          },
          "metadata": {}
        },
        {
          "output_type": "stream",
          "name": "stdout",
          "text": [
            "----------------------------------------------------------------------------------------------------\n"
          ]
        },
        {
          "output_type": "display_data",
          "data": {
            "text/plain": [
              "<IPython.core.display.HTML object>"
            ],
            "text/html": [
              "Оригинальный текст: <mark>плетег</mark> шнур Aqualon <br><br>Исправленный текст: <mark>плетеный</mark> шнур Aqualon "
            ]
          },
          "metadata": {}
        },
        {
          "output_type": "stream",
          "name": "stdout",
          "text": [
            "----------------------------------------------------------------------------------------------------\n"
          ]
        },
        {
          "output_type": "display_data",
          "data": {
            "text/plain": [
              "<IPython.core.display.HTML object>"
            ],
            "text/html": [
              "Оригинальный текст: Рожок <mark>гиант</mark> колибри <br><br>Исправленный текст: Рожок <mark>гигант</mark> колибри "
            ]
          },
          "metadata": {}
        },
        {
          "output_type": "stream",
          "name": "stdout",
          "text": [
            "----------------------------------------------------------------------------------------------------\n"
          ]
        },
        {
          "output_type": "display_data",
          "data": {
            "text/plain": [
              "<IPython.core.display.HTML object>"
            ],
            "text/html": [
              "Оригинальный текст: <mark>У</mark> меня там когда-то <mark>зсрряла</mark> <mark>штанега.</mark> <br><br>Исправленный текст: <mark>Я</mark> меня там когда-то <mark>застряла</mark> <mark>штанина.</mark> "
            ]
          },
          "metadata": {}
        },
        {
          "output_type": "stream",
          "name": "stdout",
          "text": [
            "----------------------------------------------------------------------------------------------------\n"
          ]
        },
        {
          "output_type": "display_data",
          "data": {
            "text/plain": [
              "<IPython.core.display.HTML object>"
            ],
            "text/html": [
              "Оригинальный текст: Слушай, я <mark>пыатюст</mark> найти ее, <mark>помовории</mark> с ней. <br><br>Исправленный текст: Слушай, я <mark>пытаюсь</mark> найти ее, <mark>поговорить</mark> с ней. "
            ]
          },
          "metadata": {}
        },
        {
          "output_type": "stream",
          "name": "stdout",
          "text": [
            "----------------------------------------------------------------------------------------------------\n"
          ]
        }
      ]
    }
  ]
}